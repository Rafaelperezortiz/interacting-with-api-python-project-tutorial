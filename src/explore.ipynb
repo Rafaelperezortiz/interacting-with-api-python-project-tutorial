{
    "cells": [
        {
            "cell_type": "markdown",
            "metadata": {},
            "source": [
                "# Explore here"
            ]
        },
        {
            "cell_type": "code",
            "execution_count": 2,
            "metadata": {},
            "outputs": [
                {
                    "data": {
                        "text/plain": [
                            "True"
                        ]
                    },
                    "execution_count": 2,
                    "metadata": {},
                    "output_type": "execute_result"
                }
            ],
            "source": [
                "import os\n",
                "from sqlalchemy import create_engine\n",
                "import pandas as pd\n",
                "from dotenv import load_dotenv\n",
                "\n",
                "# load the .env file variables\n",
                "load_dotenv()\n",
                "\n",
                "# 1) Connect to the database here using the SQLAlchemy's create_engine function\n",
                "\n",
                "# 2) Execute the SQL sentences to create your tables using the SQLAlchemy's execute function\n",
                "\n",
                "# 3) Execute the SQL sentences to insert your data using the SQLAlchemy's execute function\n",
                "\n",
                "# 4) Use pandas to print one of the tables as dataframes using read_sql function"
            ]
        },
        {
            "cell_type": "markdown",
            "metadata": {},
            "source": [
                "PASO 3\n"
            ]
        },
        {
            "cell_type": "code",
            "execution_count": 3,
            "metadata": {},
            "outputs": [],
            "source": [
                "from dotenv import load_dotenv\n",
                "load_dotenv()\n",
                "\n",
                "import os\n",
                "\n",
                "client_id = os.environ.get(\"CLIENT_ID\")\n",
                "client_secret = os.environ.get(\"CLIENT_SECRET\")"
            ]
        },
        {
            "cell_type": "markdown",
            "metadata": {},
            "source": [
                "PASO 4\n"
            ]
        },
        {
            "cell_type": "code",
            "execution_count": 4,
            "metadata": {},
            "outputs": [],
            "source": [
                "import spotipy\n",
                "from spotipy.oauth2 import SpotifyClientCredentials\n",
                "\n",
                "con = spotipy.Spotify(auth_manager = SpotifyClientCredentials(client_id = client_id,\n",
                "                                                              client_secret = client_secret))"
            ]
        },
        {
            "cell_type": "code",
            "execution_count": 7,
            "metadata": {},
            "outputs": [],
            "source": [
                "artist_id = \"3eqjTLE0HfPfh78zjh6TqT\"\n",
                "\n",
                "response = con.artist_top_tracks(\"3eqjTLE0HfPfh78zjh6TqT\")\n",
                "if response:\n",
                "   tracks = response[\"tracks\"]\n",
                "   tracks = [{k: (v/(1000*60))%60 if k == \"duration_ms\" else v for k, v in track.items() if k in [\"name\", \"popularity\", \"duration_ms\"]} for track in tracks]"
            ]
        },
        {
            "cell_type": "code",
            "execution_count": 10,
            "metadata": {},
            "outputs": [
                {
                    "name": "stdout",
                    "output_type": "stream",
                    "text": [
                        "   duration_ms                                               name  popularity\n",
                        "9     4.443550                                      Secret Garden          66\n",
                        "8     5.025767                                          The River          67\n",
                        "6     3.324217                                       Hungry Heart          72\n",
                        "7     4.245550                                         Glory Days          72\n",
                        "5     4.498667                                        Born to Run          74\n",
                        "3     4.644667                                 Born in the U.S.A.          75\n",
                        "4     3.251333              Streets of Philadelphia - Single Edit          75\n",
                        "2     2.598000                                        I'm On Fire          78\n",
                        "0     4.460000  Santa Claus Is Comin' to Town - Live at C.W. P...          81\n",
                        "1     4.021767                                Dancing In the Dark          81\n"
                    ]
                }
            ],
            "source": [
                "import pandas as pd\n",
                "\n",
                "tracks_df = pd.DataFrame.from_records(tracks)\n",
                "tracks_df.sort_values([\"popularity\"], inplace = True)\n",
                "\n",
                "print(tracks_df)"
            ]
        },
        {
            "cell_type": "code",
            "execution_count": 13,
            "metadata": {},
            "outputs": [
                {
                    "data": {
                        "image/png": "[encoded data removed]",
                        "text/plain": [
                            "<Figure size 640x480 with 1 Axes>"
                        ]
                    },
                    "metadata": {},
                    "output_type": "display_data"
                }
            ],
            "source": [
                "import seaborn as sns\n",
                "\n",
                "scatter_plot = sns.scatterplot(data = tracks_df, x = \"popularity\", y = \"duration_ms\")\n",
                "fig = scatter_plot.get_figure()\n",
                "fig.savefig(\"scatter_plot.png\")"
            ]
        },
        {
            "cell_type": "markdown",
            "metadata": {},
            "source": [
                "Comprobando el gráfico realizado, no existe ningun tipo de correlación entre la popularidad y la duracion de las 10 mejores canciones de Bruce Springsteen"
            ]
        }
    ],
    "metadata": {
        "kernelspec": {
            "display_name": "Python 3.8.13 64-bit ('3.8.13')",
            "language": "python",
            "name": "python3"
        },
        "language_info": {
            "codemirror_mode": {
                "name": "ipython",
                "version": 3
            },
            "file_extension": ".py",
            "mimetype": "text/x-python",
            "name": "python",
            "nbconvert_exporter": "python",
            "pygments_lexer": "ipython3",
            "version": "3.11.4"
        },
        "orig_nbformat": 4,
        "vscode": {
            "interpreter": {
                "hash": "110cc1dee26208153f2972f08a2ad52b6a56238dc66d48e87fb757ef2996db56"
            }
        }
    },
    "nbformat": 4,
    "nbformat_minor": 2
}
